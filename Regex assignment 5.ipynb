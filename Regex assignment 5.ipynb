{
 "cells": [
  {
   "cell_type": "markdown",
   "id": "474e0de5",
   "metadata": {},
   "source": [
    "# TASK 5\n",
    "\n",
    "Registration ID : SIRSS2140\n",
    "    \n",
    "RAJ SANKAR GS"
   ]
  },
  {
   "cell_type": "markdown",
   "id": "9f592e03",
   "metadata": {},
   "source": [
    "Q1. Given a list of integers, write a function to return the sum of all prime numbers in that list."
   ]
  },
  {
   "cell_type": "code",
   "execution_count": 1,
   "id": "0da20940",
   "metadata": {},
   "outputs": [
    {
     "name": "stdout",
     "output_type": "stream",
     "text": [
      "Prime numbers in list :\n",
      "2\n",
      "3\n",
      "5\n",
      "13\n",
      "17\n",
      "19\n",
      "Sum of primes : 59\n"
     ]
    }
   ],
   "source": [
    "import math\n",
    "def primenumber(n):\n",
    "    if n == 0 or n == 1:\n",
    "        return False\n",
    "    else:\n",
    "        for i in range(2, int(n**0.5)+1):\n",
    "            if n%i == 0:\n",
    "                return False\n",
    "                break\n",
    "        else:\n",
    "            return True\n",
    "            \n",
    "def sum_primenumber(ls):\n",
    "    sum_of_primenumbers=0\n",
    "    print(\"Prime numbers in list :\")\n",
    "    for i in ls:\n",
    "        if primenumber(i):\n",
    "            print(i)\n",
    "            sum_of_primenumbers += i\n",
    "    print(\"Sum of primes :\",sum_of_primenumbers)\n",
    "sum_primenumber([0,1,2,3,5,6,8,12,13,15,17,19])"
   ]
  },
  {
   "cell_type": "markdown",
   "id": "4fe676e3",
   "metadata": {},
   "source": [
    "Q2. Given a list of integers, write a function to check whether the list is strictly increasing or not."
   ]
  },
  {
   "cell_type": "code",
   "execution_count": 2,
   "id": "9b947506",
   "metadata": {},
   "outputs": [
    {
     "name": "stdout",
     "output_type": "stream",
     "text": [
      "Original list : [1, 3, 6, 12, 15, 17, 20]\n",
      "Is this list increasing ? : True\n"
     ]
    }
   ],
   "source": [
    "list1 = [1, 3, 6, 12, 15, 17, 20]\n",
    "  \n",
    "\n",
    "print (\"Original list : \" + str(list1))\n",
    "  \n",
    "output = all(i < j for i, j in zip(list1,list1[1:]))\n",
    "  \n",
    "\n",
    "print (\"Is this list increasing ? : \" + str(output))"
   ]
  },
  {
   "cell_type": "markdown",
   "id": "df1e9ec3",
   "metadata": {},
   "source": [
    "Q3. Write a function to check whether a given list is expanding or not \n",
    "(the difference between adjacent elements should keep on increasing)."
   ]
  },
  {
   "cell_type": "code",
   "execution_count": 3,
   "id": "cfe8278f",
   "metadata": {},
   "outputs": [],
   "source": [
    "def expand(k):\n",
    "    x = abs(k[1] - k[0])\n",
    "    y = abs(k[2] - k[1])\n",
    "    \n",
    "    if x >= y:\n",
    "        return False\n",
    "    \n",
    "    else:\n",
    "        for i in range(3,len(k)):\n",
    "            z = abs(k[i] - k[i-1])\n",
    "            if z <= y:\n",
    "                return False\n",
    "            y = z\n",
    "        else:\n",
    "            return True"
   ]
  },
  {
   "cell_type": "code",
   "execution_count": 4,
   "id": "05c47ab8",
   "metadata": {},
   "outputs": [
    {
     "data": {
      "text/plain": [
       "False"
      ]
     },
     "execution_count": 4,
     "metadata": {},
     "output_type": "execute_result"
    }
   ],
   "source": [
    "expand([1,3,4,7,3,10,13,23])"
   ]
  },
  {
   "cell_type": "markdown",
   "id": "d3bf9bfb",
   "metadata": {},
   "source": [
    "Q4. Write a function to calculate all permutations of a given string. (Without using itertools)"
   ]
  },
  {
   "cell_type": "code",
   "execution_count": 5,
   "id": "d55edabf",
   "metadata": {},
   "outputs": [
    {
     "name": "stdout",
     "output_type": "stream",
     "text": [
      "Enter the String : wayne\n"
     ]
    },
    {
     "data": {
      "text/plain": [
       "['wayne',\n",
       " 'awyne',\n",
       " 'aywne',\n",
       " 'aynwe',\n",
       " 'aynew',\n",
       " 'wyane',\n",
       " 'ywane',\n",
       " 'yawne',\n",
       " 'yanwe',\n",
       " 'yanew',\n",
       " 'wynae',\n",
       " 'ywnae',\n",
       " 'ynwae',\n",
       " 'ynawe',\n",
       " 'ynaew',\n",
       " 'wynea',\n",
       " 'ywnea',\n",
       " 'ynwea',\n",
       " 'ynewa',\n",
       " 'yneaw',\n",
       " 'wanye',\n",
       " 'awnye',\n",
       " 'anwye',\n",
       " 'anywe',\n",
       " 'anyew',\n",
       " 'wnaye',\n",
       " 'nwaye',\n",
       " 'nawye',\n",
       " 'naywe',\n",
       " 'nayew',\n",
       " 'wnyae',\n",
       " 'nwyae',\n",
       " 'nywae',\n",
       " 'nyawe',\n",
       " 'nyaew',\n",
       " 'wnyea',\n",
       " 'nwyea',\n",
       " 'nywea',\n",
       " 'nyewa',\n",
       " 'nyeaw',\n",
       " 'waney',\n",
       " 'awney',\n",
       " 'anwey',\n",
       " 'anewy',\n",
       " 'aneyw',\n",
       " 'wnaey',\n",
       " 'nwaey',\n",
       " 'nawey',\n",
       " 'naewy',\n",
       " 'naeyw',\n",
       " 'wneay',\n",
       " 'nweay',\n",
       " 'neway',\n",
       " 'neawy',\n",
       " 'neayw',\n",
       " 'wneya',\n",
       " 'nweya',\n",
       " 'newya',\n",
       " 'neywa',\n",
       " 'neyaw',\n",
       " 'wayen',\n",
       " 'awyen',\n",
       " 'aywen',\n",
       " 'ayewn',\n",
       " 'ayenw',\n",
       " 'wyaen',\n",
       " 'ywaen',\n",
       " 'yawen',\n",
       " 'yaewn',\n",
       " 'yaenw',\n",
       " 'wyean',\n",
       " 'ywean',\n",
       " 'yewan',\n",
       " 'yeawn',\n",
       " 'yeanw',\n",
       " 'wyena',\n",
       " 'ywena',\n",
       " 'yewna',\n",
       " 'yenwa',\n",
       " 'yenaw',\n",
       " 'waeyn',\n",
       " 'aweyn',\n",
       " 'aewyn',\n",
       " 'aeywn',\n",
       " 'aeynw',\n",
       " 'weayn',\n",
       " 'ewayn',\n",
       " 'eawyn',\n",
       " 'eaywn',\n",
       " 'eaynw',\n",
       " 'weyan',\n",
       " 'ewyan',\n",
       " 'eywan',\n",
       " 'eyawn',\n",
       " 'eyanw',\n",
       " 'weyna',\n",
       " 'ewyna',\n",
       " 'eywna',\n",
       " 'eynwa',\n",
       " 'eynaw',\n",
       " 'waeny',\n",
       " 'aweny',\n",
       " 'aewny',\n",
       " 'aenwy',\n",
       " 'aenyw',\n",
       " 'weany',\n",
       " 'ewany',\n",
       " 'eawny',\n",
       " 'eanwy',\n",
       " 'eanyw',\n",
       " 'wenay',\n",
       " 'ewnay',\n",
       " 'enway',\n",
       " 'enawy',\n",
       " 'enayw',\n",
       " 'wenya',\n",
       " 'ewnya',\n",
       " 'enwya',\n",
       " 'enywa',\n",
       " 'enyaw']"
      ]
     },
     "execution_count": 5,
     "metadata": {},
     "output_type": "execute_result"
    }
   ],
   "source": [
    "def permutations(str) :\n",
    "    if len(str) == 1 :\n",
    "        return [str]\n",
    "    p = permutations(str[1:])\n",
    "    f = str[0]\n",
    "    result = []\n",
    "    for i in p :\n",
    "        for k in range(len(i)+1) :\n",
    "            result.append(i[:k] + f + i[k:])\n",
    "    return result\n",
    "\n",
    "\n",
    "inp = str(input(\"Enter the String : \"))\n",
    "permutations(inp)"
   ]
  },
  {
   "cell_type": "code",
   "execution_count": null,
   "id": "1de7e803",
   "metadata": {},
   "outputs": [],
   "source": []
  }
 ],
 "metadata": {
  "kernelspec": {
   "display_name": "Python 3",
   "language": "python",
   "name": "python3"
  },
  "language_info": {
   "codemirror_mode": {
    "name": "ipython",
    "version": 3
   },
   "file_extension": ".py",
   "mimetype": "text/x-python",
   "name": "python",
   "nbconvert_exporter": "python",
   "pygments_lexer": "ipython3",
   "version": "3.8.8"
  }
 },
 "nbformat": 4,
 "nbformat_minor": 5
}
